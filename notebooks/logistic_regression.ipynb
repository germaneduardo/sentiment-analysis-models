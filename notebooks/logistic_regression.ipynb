{
  "nbformat": 4,
  "nbformat_minor": 0,
  "metadata": {
    "colab": {
      "name": "logistic_regression.ipynb",
      "provenance": [],
      "include_colab_link": true
    },
    "kernelspec": {
      "name": "python3",
      "display_name": "Python 3"
    },
    "language_info": {
      "name": "python"
    }
  },
  "cells": [
    {
      "cell_type": "markdown",
      "metadata": {
        "id": "view-in-github",
        "colab_type": "text"
      },
      "source": [
        "<a href=\"https://colab.research.google.com/github/germaneduardo/sentiment-analysis-models/blob/main/notebooks/logistic_regression.ipynb\" target=\"_parent\"><img src=\"https://colab.research.google.com/assets/colab-badge.svg\" alt=\"Open In Colab\"/></a>"
      ]
    },
    {
      "cell_type": "markdown",
      "metadata": {
        "id": "9fkBWYGglav9"
      },
      "source": [
        "# Sentiment Analysis Using Logistic Regression\n",
        "\n",
        "In the notebook you will see how implement logistic regression for sentiment analysis on tweets. Given a tweet, the model wil decide if it has a psotibe sentiment or a negative one."
      ]
    },
    {
      "cell_type": "code",
      "metadata": {
        "id": "BAXuJFDxl9h-",
        "outputId": "2ff6450d-c491-472b-8433-3ade0155b523",
        "colab": {
          "base_uri": "https://localhost:8080/"
        }
      },
      "source": [
        "import nltk\n",
        "nltk.download('twitter_samples')\n",
        "nltk.download('stopwords')"
      ],
      "execution_count": 1,
      "outputs": [
        {
          "output_type": "stream",
          "text": [
            "[nltk_data] Downloading package twitter_samples to /root/nltk_data...\n",
            "[nltk_data]   Unzipping corpora/twitter_samples.zip.\n",
            "[nltk_data] Downloading package stopwords to /root/nltk_data...\n",
            "[nltk_data]   Unzipping corpora/stopwords.zip.\n"
          ],
          "name": "stdout"
        },
        {
          "output_type": "execute_result",
          "data": {
            "text/plain": [
              "True"
            ]
          },
          "metadata": {
            "tags": []
          },
          "execution_count": 1
        }
      ]
    },
    {
      "cell_type": "code",
      "metadata": {
        "id": "BoUAOGSCl-Y_",
        "outputId": "23d176c0-c00c-4a09-93f8-e2ec7a04e0f7",
        "colab": {
          "base_uri": "https://localhost:8080/"
        }
      },
      "source": [
        "# install the library from github\n",
        "!python -m pip install --upgrade git+https://github.com/germaneduardo/sentiment-analysis-models.git"
      ],
      "execution_count": 2,
      "outputs": [
        {
          "output_type": "stream",
          "text": [
            "Collecting git+https://github.com/germaneduardo/sentiment-analysis-models.git\n",
            "  Cloning https://github.com/germaneduardo/sentiment-analysis-models.git to /tmp/pip-req-build-wkhi_qk0\n",
            "  Running command git clone -q https://github.com/germaneduardo/sentiment-analysis-models.git /tmp/pip-req-build-wkhi_qk0\n",
            "  Installing build dependencies ... \u001b[?25l\u001b[?25hdone\n",
            "  Getting requirements to build wheel ... \u001b[?25l\u001b[?25hdone\n",
            "    Preparing wheel metadata ... \u001b[?25l\u001b[?25hdone\n",
            "Building wheels for collected packages: sentiment-analysis-models\n",
            "  Building wheel for sentiment-analysis-models (PEP 517) ... \u001b[?25l\u001b[?25hdone\n",
            "  Created wheel for sentiment-analysis-models: filename=sentiment_analysis_models-0.0.2-cp37-none-any.whl size=3420 sha256=7e29983eb5ca1cf6257fd6dd7cb635d5117f404b58486edca832e4b8f0c537ba\n",
            "  Stored in directory: /tmp/pip-ephem-wheel-cache-900vngtr/wheels/4f/83/2a/f5688a283b026fee7f19c6748ef0edf918f8f0a58830e61e49\n",
            "Successfully built sentiment-analysis-models\n",
            "Installing collected packages: sentiment-analysis-models\n",
            "Successfully installed sentiment-analysis-models-0.0.2\n"
          ],
          "name": "stdout"
        }
      ]
    },
    {
      "cell_type": "code",
      "metadata": {
        "id": "JY7ARK3a4AHp"
      },
      "source": [
        "from sentiment_analysis_models.data import pipeline"
      ],
      "execution_count": 3,
      "outputs": []
    },
    {
      "cell_type": "code",
      "metadata": {
        "id": "ahKtRBSM6P8v",
        "outputId": "c4288047-662e-4cd0-de45-270a1de44bd7",
        "colab": {
          "base_uri": "https://localhost:8080/"
        }
      },
      "source": [
        " pipeline.process_tweet(\"ab german\")"
      ],
      "execution_count": 4,
      "outputs": [
        {
          "output_type": "execute_result",
          "data": {
            "text/plain": [
              "['ab', 'german']"
            ]
          },
          "metadata": {
            "tags": []
          },
          "execution_count": 4
        }
      ]
    }
  ]
}